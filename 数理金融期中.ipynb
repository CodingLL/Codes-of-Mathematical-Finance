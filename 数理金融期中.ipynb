{
 "cells": [
  {
   "cell_type": "code",
   "execution_count": 1,
   "metadata": {
    "collapsed": true
   },
   "outputs": [],
   "source": [
    "import numpy as np\n",
    "import os, json"
   ]
  },
  {
   "cell_type": "code",
   "execution_count": 9,
   "outputs": [
    {
     "data": {
      "text/plain": "7811984.0172572695"
     },
     "execution_count": 9,
     "metadata": {},
     "output_type": "execute_result"
    }
   ],
   "source": [
    "10**7/((1+0.10125/2)**5)"
   ],
   "metadata": {
    "collapsed": false,
    "pycharm": {
     "name": "#%%\n"
    }
   }
  },
  {
   "cell_type": "code",
   "execution_count": 6,
   "outputs": [
    {
     "data": {
      "text/plain": "8820262.253069857"
     },
     "execution_count": 6,
     "metadata": {},
     "output_type": "execute_result"
    }
   ],
   "source": [
    "17183033/((1+0.125/2)**11)"
   ],
   "metadata": {
    "collapsed": false,
    "pycharm": {
     "name": "#%%\n"
    }
   }
  },
  {
   "cell_type": "code",
   "execution_count": 30,
   "outputs": [
    {
     "data": {
      "text/plain": "5133123.036584903"
     },
     "execution_count": 30,
     "metadata": {},
     "output_type": "execute_result"
    }
   ],
   "source": [
    "10**7/(1+0.125/2)**11"
   ],
   "metadata": {
    "collapsed": false,
    "pycharm": {
     "name": "#%%\n"
    }
   }
  },
  {
   "cell_type": "code",
   "execution_count": 1,
   "outputs": [
    {
     "data": {
      "text/plain": "8820262.130644077"
     },
     "execution_count": 1,
     "metadata": {},
     "output_type": "execute_result"
    }
   ],
   "source": [
    "money = 10**7/(1+0.125/2)**16\n",
    "#money=0\n",
    "for t in range(1,17):\n",
    "    money += 10**7*(0.10125/2)/(1+0.125/2)**t\n",
    "money"
   ],
   "metadata": {
    "collapsed": false,
    "pycharm": {
     "name": "#%%\n"
    }
   }
  },
  {
   "cell_type": "code",
   "execution_count": 17,
   "outputs": [
    {
     "data": {
      "text/plain": "86925464.36469577"
     },
     "execution_count": 17,
     "metadata": {},
     "output_type": "execute_result"
    }
   ],
   "source": [
    "money = 0\n",
    "for t in range(11):\n",
    "    money += 10**7*(1+0.10125/2)/(1+0.125/2)**t\n",
    "money"
   ],
   "metadata": {
    "collapsed": false,
    "pycharm": {
     "name": "#%%\n"
    }
   }
  },
  {
   "cell_type": "code",
   "execution_count": 26,
   "outputs": [
    {
     "data": {
      "text/plain": "9503165.530049857"
     },
     "execution_count": 26,
     "metadata": {},
     "output_type": "execute_result"
    }
   ],
   "source": [
    "money = 10**7/((1+0.125/2)**5)\n",
    "#money = 0\n",
    "for t in range(1,6):\n",
    "    money += 10**7*(0.10125/2)/((1+0.125/2)**t)\n",
    "money"
   ],
   "metadata": {
    "collapsed": false,
    "pycharm": {
     "name": "#%%\n"
    }
   }
  },
  {
   "cell_type": "code",
   "execution_count": 20,
   "outputs": [
    {
     "data": {
      "text/plain": "7385081.737104511"
     },
     "execution_count": 20,
     "metadata": {},
     "output_type": "execute_result"
    }
   ],
   "source": [
    "10**7/((1+0.125/2)**5)"
   ],
   "metadata": {
    "collapsed": false,
    "pycharm": {
     "name": "#%%\n"
    }
   }
  },
  {
   "cell_type": "markdown",
   "source": [
    "# 作业1"
   ],
   "metadata": {
    "collapsed": false,
    "pycharm": {
     "name": "#%% md\n"
    }
   }
  },
  {
   "cell_type": "code",
   "execution_count": 1,
   "outputs": [
    {
     "data": {
      "text/plain": "79.08476965428545"
     },
     "execution_count": 1,
     "metadata": {},
     "output_type": "execute_result"
    }
   ],
   "source": [
    "100*(1+0.06)**10-100"
   ],
   "metadata": {
    "collapsed": false,
    "pycharm": {
     "name": "#%%\n"
    }
   }
  },
  {
   "cell_type": "code",
   "execution_count": 4,
   "outputs": [
    {
     "data": {
      "text/plain": "35.86795822038371"
     },
     "execution_count": 4,
     "metadata": {},
     "output_type": "execute_result"
    }
   ],
   "source": [
    "x=(100*0.06*(1+0.06)**10)/((1+0.06)**10-1)\n",
    "10*x-100"
   ],
   "metadata": {
    "collapsed": false,
    "pycharm": {
     "name": "#%%\n"
    }
   }
  },
  {
   "cell_type": "code",
   "execution_count": null,
   "outputs": [],
   "source": [],
   "metadata": {
    "collapsed": false,
    "pycharm": {
     "name": "#%%\n"
    }
   }
  },
  {
   "cell_type": "markdown",
   "source": [
    "# 明细表"
   ],
   "metadata": {
    "collapsed": false,
    "pycharm": {
     "name": "#%% md\n"
    }
   }
  },
  {
   "cell_type": "code",
   "execution_count": null,
   "outputs": [],
   "source": [],
   "metadata": {
    "collapsed": false,
    "pycharm": {
     "name": "#%%\n"
    }
   }
  },
  {
   "cell_type": "markdown",
   "source": [
    "# 债券"
   ],
   "metadata": {
    "collapsed": false,
    "pycharm": {
     "name": "#%% md\n"
    }
   }
  },
  {
   "cell_type": "code",
   "execution_count": 9,
   "outputs": [
    {
     "data": {
      "text/plain": "0.9256126256977222"
     },
     "execution_count": 9,
     "metadata": {},
     "output_type": "execute_result"
    }
   ],
   "source": [
    "v = 1/((1+0.03)**20)\n",
    "for t in range(1,21):\n",
    "    v += 0.025/((1+0.03)**t)\n",
    "v"
   ],
   "metadata": {
    "collapsed": false,
    "pycharm": {
     "name": "#%%\n"
    }
   }
  },
  {
   "cell_type": "code",
   "execution_count": 12,
   "outputs": [
    {
     "data": {
      "text/plain": "15.330091922684158"
     },
     "execution_count": 12,
     "metadata": {},
     "output_type": "execute_result"
    }
   ],
   "source": [
    "jq = 20/(((1+0.03)**21)*v)\n",
    "for t in range(1,21):\n",
    "    jq += t*0.025/((1+0.03)**(t+1))/v\n",
    "jq"
   ],
   "metadata": {
    "collapsed": false,
    "pycharm": {
     "name": "#%%\n"
    }
   }
  },
  {
   "cell_type": "code",
   "execution_count": 10,
   "outputs": [
    {
     "data": {
      "text/plain": "71.78539801290003"
     },
     "execution_count": 10,
     "metadata": {},
     "output_type": "execute_result"
    }
   ],
   "source": [
    "td = 5*21/(((1+0.03)**22)*v)\n",
    "for t in range(1,21):\n",
    "    td += t*(t+1)*0.025/((1+0.03)**(t+2))/(4*v)\n",
    "td"
   ],
   "metadata": {
    "collapsed": false,
    "pycharm": {
     "name": "#%%\n"
    }
   }
  },
  {
   "cell_type": "code",
   "execution_count": 23,
   "outputs": [
    {
     "data": {
      "text/plain": "38.767008474653544"
     },
     "execution_count": 23,
     "metadata": {},
     "output_type": "execute_result"
    }
   ],
   "source": [
    "v = 90\n",
    "p = 100\n",
    "r = 0.1091\n",
    "td = 0.25*16*17*p/(((1+r/2)**18))/v\n",
    "for t in range(1,17):\n",
    "    td += t*(t+1)*0.25*0.045*p/((1+r/2)**(t+2))/v\n",
    "td"
   ],
   "metadata": {
    "collapsed": false,
    "pycharm": {
     "name": "#%%\n"
    }
   }
  },
  {
   "cell_type": "code",
   "execution_count": 3,
   "outputs": [
    {
     "data": {
      "text/plain": "10.03125"
     },
     "execution_count": 3,
     "metadata": {},
     "output_type": "execute_result"
    }
   ],
   "source": [
    "10*(1+0.0375/12)"
   ],
   "metadata": {
    "collapsed": false,
    "pycharm": {
     "name": "#%%\n"
    }
   }
  },
  {
   "cell_type": "code",
   "execution_count": 4,
   "outputs": [
    {
     "data": {
      "text/plain": "6.53689171934753"
     },
     "execution_count": 4,
     "metadata": {},
     "output_type": "execute_result"
    }
   ],
   "source": [
    "import numpy as np\n",
    "e = np.exp(1)\n",
    "40-2*e**(-0.04/6)-32.0054*e**(-0.04*5/12)"
   ],
   "metadata": {
    "collapsed": false,
    "pycharm": {
     "name": "#%%\n"
    }
   }
  },
  {
   "cell_type": "code",
   "execution_count": 5,
   "outputs": [
    {
     "data": {
      "text/plain": "93.9"
     },
     "execution_count": 5,
     "metadata": {},
     "output_type": "execute_result"
    }
   ],
   "source": [
    "95*1.02-3"
   ],
   "metadata": {
    "collapsed": false,
    "pycharm": {
     "name": "#%%\n"
    }
   }
  },
  {
   "cell_type": "markdown",
   "source": [
    "# 第三次作业"
   ],
   "metadata": {
    "collapsed": false,
    "pycharm": {
     "name": "#%% md\n"
    }
   }
  },
  {
   "cell_type": "code",
   "execution_count": 3,
   "outputs": [
    {
     "data": {
      "text/plain": "4937500.0"
     },
     "execution_count": 3,
     "metadata": {},
     "output_type": "execute_result"
    }
   ],
   "source": [
    "5*10000*(100-(0.25*5))"
   ],
   "metadata": {
    "collapsed": false,
    "pycharm": {
     "name": "#%%\n"
    }
   }
  },
  {
   "cell_type": "code",
   "execution_count": 4,
   "outputs": [
    {
     "data": {
      "text/plain": "-2625"
     },
     "execution_count": 4,
     "metadata": {},
     "output_type": "execute_result"
    }
   ],
   "source": [
    "4934875-4937500"
   ],
   "metadata": {
    "collapsed": false,
    "pycharm": {
     "name": "#%%\n"
    }
   }
  },
  {
   "cell_type": "code",
   "execution_count": 6,
   "outputs": [
    {
     "data": {
      "text/plain": "3411360.0"
     },
     "execution_count": 6,
     "metadata": {},
     "output_type": "execute_result"
    }
   ],
   "source": [
    "5685.6*20*200*0.15"
   ],
   "metadata": {
    "collapsed": false,
    "pycharm": {
     "name": "#%%\n"
    }
   }
  },
  {
   "cell_type": "code",
   "execution_count": 7,
   "outputs": [
    {
     "data": {
      "text/plain": "60000.0"
     },
     "execution_count": 7,
     "metadata": {},
     "output_type": "execute_result"
    }
   ],
   "source": [
    "(5785.6-5685.6)*20*200*0.15"
   ],
   "metadata": {
    "collapsed": false,
    "pycharm": {
     "name": "#%%\n"
    }
   }
  },
  {
   "cell_type": "code",
   "execution_count": 14,
   "outputs": [
    {
     "data": {
      "text/plain": "4437.430440056523"
     },
     "execution_count": 14,
     "metadata": {},
     "output_type": "execute_result"
    }
   ],
   "source": [
    "\n",
    "hands = 10\n",
    "hands += 1\n",
    "(5000000-20*200*5685.6)/(0.15*hands-200*20)"
   ],
   "metadata": {
    "collapsed": false,
    "pycharm": {
     "name": "#%%\n"
    }
   }
  },
  {
   "cell_type": "code",
   "execution_count": 1,
   "outputs": [
    {
     "data": {
      "text/plain": "22742400.0"
     },
     "execution_count": 1,
     "metadata": {},
     "output_type": "execute_result"
    }
   ],
   "source": [
    "20*200*5685.6"
   ],
   "metadata": {
    "collapsed": false,
    "pycharm": {
     "name": "#%%\n"
    }
   }
  },
  {
   "cell_type": "code",
   "execution_count": 42,
   "outputs": [
    {
     "name": "stdout",
     "output_type": "stream",
     "text": [
      "0.9753099120283326\n",
      "3.9012396481133305\n",
      "102.50507175417775\n"
     ]
    }
   ],
   "source": [
    "import numpy as np\n",
    "def discount_rate(r, m):\n",
    "    return 1/np.exp(r*m)\n",
    "r=0.10\n",
    "m=3/12\n",
    "rate = discount_rate(r, m)\n",
    "print(rate)\n",
    "print(4*rate)\n",
    "a = 4*rate\n",
    "print(105.1*rate)\n",
    "fl = 105.1*rate"
   ],
   "metadata": {
    "collapsed": false,
    "pycharm": {
     "name": "#%%\n"
    }
   }
  },
  {
   "cell_type": "code",
   "execution_count": 43,
   "outputs": [
    {
     "name": "stdout",
     "output_type": "stream",
     "text": [
      "0.9242709633048521\n",
      "3.6970838532194086\n"
     ]
    }
   ],
   "source": [
    "import numpy as np\n",
    "r=0.105\n",
    "m=9/12\n",
    "rate = discount_rate(r, m)\n",
    "print(rate)\n",
    "print(4*rate)\n",
    "b = 4*rate"
   ],
   "metadata": {
    "collapsed": false,
    "pycharm": {
     "name": "#%%\n"
    }
   }
  },
  {
   "cell_type": "code",
   "execution_count": 44,
   "outputs": [
    {
     "name": "stdout",
     "output_type": "stream",
     "text": [
      "0.8715343499971578\n",
      "3.4861373999886314\n"
     ]
    }
   ],
   "source": [
    "import numpy as np\n",
    "r=0.11\n",
    "m=15/12\n",
    "rate = discount_rate(r, m)\n",
    "print(rate)\n",
    "print(4*rate)\n",
    "c = 4*rate"
   ],
   "metadata": {
    "collapsed": false,
    "pycharm": {
     "name": "#%%\n"
    }
   }
  },
  {
   "cell_type": "code",
   "execution_count": 45,
   "outputs": [
    {
     "name": "stdout",
     "output_type": "stream",
     "text": [
      "0.8105842459701872\n",
      "84.30076158089946\n"
     ]
    }
   ],
   "source": [
    "import numpy as np\n",
    "r=0.12\n",
    "m=21/12\n",
    "rate = discount_rate(r, m)\n",
    "print(rate)\n",
    "print(104*rate)\n",
    "d = 104*rate"
   ],
   "metadata": {
    "collapsed": false,
    "pycharm": {
     "name": "#%%\n"
    }
   }
  },
  {
   "cell_type": "code",
   "execution_count": 46,
   "outputs": [
    {
     "data": {
      "text/plain": "-7.119849271956923"
     },
     "execution_count": 46,
     "metadata": {},
     "output_type": "execute_result"
    }
   ],
   "source": [
    "a+b+c+d-fl"
   ],
   "metadata": {
    "collapsed": false,
    "pycharm": {
     "name": "#%%\n"
    }
   }
  },
  {
   "cell_type": "code",
   "execution_count": 47,
   "outputs": [
    {
     "data": {
      "text/plain": "95.38522248222083"
     },
     "execution_count": 47,
     "metadata": {},
     "output_type": "execute_result"
    }
   ],
   "source": [
    "a+b+c+d"
   ],
   "metadata": {
    "collapsed": false,
    "pycharm": {
     "name": "#%%\n"
    }
   }
  },
  {
   "cell_type": "code",
   "execution_count": 87,
   "outputs": [
    {
     "name": "stdout",
     "output_type": "stream",
     "text": [
      "m: [0.25, 0.75, 1.25, 1.75]\n",
      "[0.9777512371933362, 0.9277434863285529, 0.8715343499971578, 0.8105842459701872]\n",
      "[0.051, 0.053902562078537386, 0.06449445891785932, 0.075192806090155]\n",
      "[-1.07552636 -1.28980114 -2.13477623 -2.85267342]\n",
      "-7.352777154044\n"
     ]
    }
   ],
   "source": [
    "r=[0.09, 0.10, 0.11, 0.12]\n",
    "m=[i*6/12-3/12 for i in range(1,5)]\n",
    "print('m:',m)\n",
    "rate = []\n",
    "for i in range(4):\n",
    "    rate.append(discount_rate(r[i], m[i]))\n",
    "print(rate)\n",
    "\n",
    "forward_r = [0.051]\n",
    "for i in range(1,4):\n",
    "    forward_r.append(np.exp((6*i+3)/12*r[i]-(6*i-3)/12*r[i-1])-1)\n",
    "print(forward_r)\n",
    "\n",
    "clear_money = np.array([4,4,4,4]) - 100*np.array(forward_r)\n",
    "clear_money_discount = np.array(clear_money)*np.array(rate)\n",
    "print(clear_money_discount)\n",
    "print(np.sum(clear_money_discount))"
   ],
   "metadata": {
    "collapsed": false,
    "pycharm": {
     "name": "#%%\n"
    }
   }
  },
  {
   "cell_type": "code",
   "execution_count": 86,
   "outputs": [
    {
     "name": "stdout",
     "output_type": "stream",
     "text": [
      "贴现率: [0.9777512371933362, 0.9277434863285529, 0.8715343499971578, 0.8105842459701872]\n",
      "LIBOR净现金流: [0.051, 0.053902562078537386, 0.06449445891785932, 0.075192806090155]\n",
      "LIBOR净现金流现值: [-1.07552636 -1.28980114 -2.13477623 -2.85267342]\n",
      "合约价值: -7.352777154044\n"
     ]
    }
   ],
   "source": [
    "def exchange_value2(freq, bond_rate, libor_rate, start_time, total_round, base_invent, mode = 'cont'):\n",
    "    #半年情况\n",
    "    m = [i*1/freq-start_time for i in range(1,total_round+1)]\n",
    "    rate = [] #贴现率\n",
    "    for i in range(total_round):\n",
    "        rate.append(discount_rate(r[i], m[i]))\n",
    "    print('贴现率:', rate)\n",
    "    forward_r = [libor_rate[0]/freq]\n",
    "    libor_rate = libor_rate[1:]\n",
    "    for i in range(1,total_round):\n",
    "        forward_r.append(np.exp((12/freq*i+start_time*12)/12*libor_rate[i]-(12/freq*i-start_time*12)/12*libor_rate[i-1])-1)\n",
    "    print('LIBOR净现金流:',forward_r)\n",
    "    clear_money = base_invent * np.array([bond_rate for _ in range(total_round)]) - base_invent * np.array(forward_r)\n",
    "    clear_money_discount = np.array(clear_money)*np.array(rate)\n",
    "    print('LIBOR净现金流现值:',clear_money_discount)\n",
    "    print('合约价值:',np.sum(clear_money_discount))\n",
    "\n",
    "exchange_value2(freq=2,\n",
    "               bond_rate=0.04,\n",
    "               libor_rate=[0.102, 0.09, 0.10, 0.11, 0.12],\n",
    "               start_time=0.25,\n",
    "               total_round=4,\n",
    "               base_invent=100,\n",
    "               mode = 'cont')"
   ],
   "metadata": {
    "collapsed": false,
    "pycharm": {
     "name": "#%%\n"
    }
   }
  },
  {
   "cell_type": "code",
   "execution_count": null,
   "outputs": [],
   "source": [
    "#def exchange_value(rate, )"
   ],
   "metadata": {
    "collapsed": false,
    "pycharm": {
     "name": "#%%\n"
    }
   }
  },
  {
   "cell_type": "code",
   "execution_count": 80,
   "outputs": [
    {
     "data": {
      "text/plain": "-7.3527771540439915"
     },
     "execution_count": 80,
     "metadata": {},
     "output_type": "execute_result"
    }
   ],
   "source": [
    "(np.array([4,4,4,104])*np.array(rate)).sum()-105.1*rate[0]"
   ],
   "metadata": {
    "collapsed": false,
    "pycharm": {
     "name": "#%%\n"
    }
   }
  },
  {
   "cell_type": "code",
   "execution_count": 66,
   "outputs": [],
   "source": [
    "clear_money = np.array([4,4,4]) - 100*np.array(forward_r)"
   ],
   "metadata": {
    "collapsed": false,
    "pycharm": {
     "name": "#%%\n"
    }
   }
  },
  {
   "cell_type": "code",
   "execution_count": 60,
   "outputs": [
    {
     "data": {
      "text/plain": "[0.053902562078537386,\n 0.06449445891785932,\n 0.075192806090155,\n 0.053902562078537386,\n 0.06449445891785932,\n 0.075192806090155,\n 0.053902562078537386,\n 0.06449445891785932,\n 0.075192806090155,\n 0.053902562078537386,\n 0.06449445891785932,\n 0.075192806090155]"
     },
     "execution_count": 60,
     "metadata": {},
     "output_type": "execute_result"
    }
   ],
   "source": [
    "4*forward_r"
   ],
   "metadata": {
    "collapsed": false,
    "pycharm": {
     "name": "#%%\n"
    }
   }
  },
  {
   "cell_type": "code",
   "execution_count": 79,
   "outputs": [
    {
     "data": {
      "text/plain": "102.76165502901964"
     },
     "execution_count": 79,
     "metadata": {},
     "output_type": "execute_result"
    }
   ],
   "source": [],
   "metadata": {
    "collapsed": false,
    "pycharm": {
     "name": "#%%\n"
    }
   }
  }
 ],
 "metadata": {
  "kernelspec": {
   "display_name": "Python 3",
   "language": "python",
   "name": "python3"
  },
  "language_info": {
   "codemirror_mode": {
    "name": "ipython",
    "version": 2
   },
   "file_extension": ".py",
   "mimetype": "text/x-python",
   "name": "python",
   "nbconvert_exporter": "python",
   "pygments_lexer": "ipython2",
   "version": "2.7.6"
  }
 },
 "nbformat": 4,
 "nbformat_minor": 0
}