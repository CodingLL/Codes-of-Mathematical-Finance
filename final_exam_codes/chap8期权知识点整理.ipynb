{
 "cells": [
  {
   "cell_type": "markdown",
   "metadata": {
    "collapsed": true,
    "pycharm": {
     "name": "#%% md\n"
    }
   },
   "source": [
    "## 1. 期权价值套利方法\n",
    "#### 看涨期权\n",
    "当 $max(S_t-\\frac{K}{1+r_f},0)>C_t$时，卖空一份标的资产获得$S_t$,买入一份看涨期权$C_t$,将剩下$S_t-C_t$以无风险利率$r_f$进行投资,到时刻T,\n",
    "\n",
    "若$S_T > K$,行权，以K购买标的资产平仓，最终盈亏$=(S_t-C_t) \\times r_f - K > 0$\n",
    "\n",
    "若$S_T \\leq K$, 不行权， 以S_t购买标的资产平仓，最终盈亏$=(S_t-C_t) \\times r_f - S_t > 0 > (S_t-C_t) \\times r_f - K > 0$\n",
    "\n",
    "#### 看跌期权\n",
    "当 $max(\\frac{K}{1+r_f}-S_t,0)>P_t$时，以无风险利率$r_f$借资金$S_t + P_t$,到时刻T, 买一份标的资产和看跌期权，到时刻T，\n",
    "\n",
    "若$S_T > K$,不行权，最终盈亏$=S_T - (1+r_f) \\times (S_t + P_t)> K - (1+r_f) \\times (S_t + P_t) > 0$\n",
    "\n",
    "若$S_T \\leq K$, 行权， 最终盈亏$=K - (1+r_f) \\times (S_t + P_t)> 0$"
   ]
  },
  {
   "cell_type": "markdown",
   "source": [
    "\n",
    "## 2. 二项模型期权价格套利方法\n",
    "先算m(1份期权对应m份股票），在根据理论价格的高低根据判断。\n",
    "\n",
    "假设理论价格为7.16，无风险利率为0.05，标的资产价格100，行权价105，标的资产涨跌价为120，90\n",
    "\n",
    "#### 若实际价格为7.5>7.14\n",
    "\n",
    "以无风险利率0.05借入$100-7.5 \\times 2 = 85$，卖出两份看涨期权，买入一份标的资产\n",
    "\n",
    "若S(T)=90,不行权，盈亏=$90 - 85 \\times (1 + 0.05) = 0.75$\n",
    "\n",
    "若S(T)=120,行权，盈亏=$120 - 2 \\times (120 - 105) - 85 \\times (1 + 0.05) = 0.75$\n",
    "\n",
    "#### 若实际价格为6.9<7.14\n",
    "\n",
    "卖空一份标的资产获得100，买入两份看涨期权获得$100 - 2 \\times 6.9 = 86.2$，以无风险利率$r_f$投资到T时刻，同时T时刻还S(T)\n",
    "\n",
    "若S(T)=90，行权，盈亏 = $86.2 \\times (1 + 0.05) - 90 = 0.51$\n",
    "\n",
    "若S(T)=120，行权，盈亏 = $86.2 \\times (1 + 0.05) + (120 - 105) \\times 2 - 120 = 0.51$"
   ],
   "metadata": {
    "collapsed": false,
    "pycharm": {
     "name": "#%% md\n"
    }
   }
  },
  {
   "cell_type": "markdown",
   "source": [
    "# 3. 提前执行\n",
    "\n",
    "#### 标的资产没红利支付的美式看涨期权提前执行是不明智的。\n",
    "提前执行时的收益为\n",
    "$(S_t - K)^{+} < (S_t - Ke^{-r(T-t)})^{+} < C_a$\n",
    "\n",
    "\n",
    "####  美式看跌期权提前执行可能是明智的\n",
    "\n",
    "事实上，在期权有效期内的任一给定的时刻，如果看跌期权的实值额很大，则应提前执行它。\n",
    "因此，无论标的股票是否支付红利，美式看跌期权都有可能提前执行。\n",
    "\n",
    "#### 简单案例：\n",
    "\n",
    "假定执行价格为$10，股票价格接近为0。\n",
    "通过立即执行期权，投资者可立即获利 $10，如果投资者等待，则执行期权的盈利可能低于$10，但是由于股票价格不可能为负，所以盈利不会超过$10。\n",
    "另外，现在收到$10比将来收到$10要好。 这说明该期权应立即执行。\n",
    "\n",
    "#### 当预期有红利发放时\n",
    "\n",
    "我们不再肯定美式 看涨期权不应提前执行。有时在除息日前，立即执行美式看涨期权是明智的。\n",
    "因为发放红利将使股票价格跳跃性下 降，使期权的吸引力下降。当标的资产有收益时，美式看涨期权就有提前执行的可能，可用一种近似处理的方法。\n",
    "该方法是先确定提前执行美式看涨期权是否合理。\n",
    "若不合理，则按欧式期权处理；若在tn提前执行有可能是合理的，则要分别计算在T时刻和tn时刻到期的欧式看涨期权的价格，然后将二者之中的较大者作为美式期权的价格。"
   ],
   "metadata": {
    "collapsed": false,
    "pycharm": {
     "name": "#%% md\n"
    }
   }
  },
  {
   "cell_type": "markdown",
   "source": [
    "# 5. 执行概率相关\n",
    "\n",
    "根据伊藤定理, $lnS(T) \\sim N(lnS(t) + \\mu - \\frac{\\sigma^2}{2}(T - t), \\sigma^2(T-t))$\n",
    "\n",
    "$P(S(T)>K)$\n",
    "$=1-P(\\ln S(T) \\leqslant \\ln K)$\n",
    "$=1-P\\left(\\frac{\\ln S(T)-\\left[\\ln S(t)+\\left(\\mu-\\sigma^2 / 2\\right)(T-t)\\right]}{\\sigma \\sqrt{T-t}} \\leqslant \\frac{\\ln K-\\left[\\ln S(t)+\\left(\\mu-\\sigma^2 / 2\\right)(T-t)\\right]}{\\sigma \\sqrt{T-t}}\\right)$\n",
    "$=1-\\phi\\left(\\frac{\\ln K-\\left[\\ln S(t)+\\left(\\mu-\\sigma^2 / 2\\right)(T-t)\\right]}{\\sigma \\sqrt{T-t}}\\right)$\n",
    "$=1-\\phi(0.13) \\approx 0.4473$"
   ],
   "metadata": {
    "collapsed": false,
    "pycharm": {
     "name": "#%% md\n"
    }
   }
  },
  {
   "cell_type": "markdown",
   "source": [
    "# 4. BS公式的几种特殊形式\n",
    "P182\n",
    "\n",
    "1. 按收益率$\\rho$连续支付红利，则取$S = Se^{-\\rho(T-t)}$\n",
    "2. 在持有期内支付现值为I的红利，则取$S = S-I$\n",
    "3. 期货期权，则取$S = Fe^{-r(T-t)}$\n",
    "4. 外汇期权，则取$S = Fe^{-r_f(T-t)}( = Fe^{(r-r_f-r)(T-t)})$\n",
    "\n"
   ],
   "metadata": {
    "collapsed": false
   }
  }
 ],
 "metadata": {
  "kernelspec": {
   "display_name": "Python 3",
   "language": "python",
   "name": "python3"
  },
  "language_info": {
   "codemirror_mode": {
    "name": "ipython",
    "version": 2
   },
   "file_extension": ".py",
   "mimetype": "text/x-python",
   "name": "python",
   "nbconvert_exporter": "python",
   "pygments_lexer": "ipython2",
   "version": "2.7.6"
  }
 },
 "nbformat": 4,
 "nbformat_minor": 0
}