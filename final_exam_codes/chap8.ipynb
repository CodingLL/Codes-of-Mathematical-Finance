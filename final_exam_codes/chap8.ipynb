{
 "cells": [
  {
   "cell_type": "code",
   "execution_count": 1,
   "metadata": {
    "collapsed": true
   },
   "outputs": [],
   "source": [
    "import math\n",
    "import numpy as np\n",
    "from scipy.stats import norm\n",
    "from chap8 import tree_lay, post_process, TreeNode"
   ]
  },
  {
   "cell_type": "markdown",
   "source": [
    "# 第七次作业-期货1-二叉树定价"
   ],
   "metadata": {
    "collapsed": false,
    "pycharm": {
     "name": "#%% md\n"
    }
   }
  },
  {
   "cell_type": "code",
   "execution_count": 2,
   "outputs": [
    {
     "name": "stdout",
     "output_type": "stream",
     "text": [
      "无派息期权二叉树:[[10], [9.0, 11.0], [8.1, 9.9, 12.1], [7.29, 8.91, 10.89, 13.31]]\n",
      "==============欧式期权情况==============\n",
      "看涨期权第3周期价值：[2.81, 0.39, 0, 0]\n",
      "看跌期权第3周期价值：[0, 0, 1.59, 3.21]\n",
      "看涨期权价格:0.865\n",
      "看跌期权价格:0.474\n"
     ]
    }
   ],
   "source": [
    "# 二叉树定价\n",
    "r = 0.03\n",
    "u = 1.1\n",
    "d = 0.9\n",
    "S = 10\n",
    "K = 10.5\n",
    "q = 0.7\n",
    "T = 3\n",
    "p = (1 + r - d)/(u - d) #风险中性概率\n",
    "sp_level = [2]  # 派息周期\n",
    "sp_r = 0.1 #派息比例\n",
    "root = TreeNode(S)\n",
    "res = tree_lay(root, u, d, T, sp_level, sp_r)\n",
    "print('无派息期权二叉树:{}'.format(res))\n",
    "\n",
    "print('==============欧式期权情况==============')\n",
    "C = [max(i - K, 0) for i in res[-1]][::-1] #从大到小排序，看涨期权\n",
    "P = [max(K - i, 0) for i in res[-1]][::-1]#从大到小排序，看跌期权\n",
    "print('看涨期权第{}周期价值：{}\\n看跌期权第{}周期价值：{}'.format(T, [np.round(i, 3) for i in C], T, [np.round(i, 3) for i in P]))\n",
    "ans_C, ans_P = 0, 0\n",
    "for i in range(T+1):\n",
    "    ans_C += (p ** (T - i)) * ((1 - p) ** (i)) * math.comb(T, i) * C[i] / (1 + r) ** T\n",
    "for i in range(T+1):\n",
    "    ans_P += (p ** (T - i)) * ((1 - p) ** (i)) * math.comb(T, i) * P[i] / (1 + r) ** T\n",
    "print('看涨期权价格:{:.3f}\\n看跌期权价格:{:.3f}'.format(ans_C, ans_P))"
   ],
   "metadata": {
    "collapsed": false,
    "pycharm": {
     "name": "#%%\n"
    }
   }
  },
  {
   "cell_type": "code",
   "execution_count": 3,
   "outputs": [
    {
     "name": "stdout",
     "output_type": "stream",
     "text": [
      "====================START====================\n",
      "-------看跌期权，第2周期-------\n",
      "当前价值: [2.4000000000000004, 0.5999999999999996, 0]\n",
      "风险中性下期望贴现: [2.093251015864132, 0.540052939419745, 0.0]\n",
      "较高项: [2.4, 0.6, 0.0]\n",
      "-------看跌期权，第1周期-------\n",
      "当前价值: [1.5, 0]\n",
      "风险中性下期望贴现: [1.1936480062646653, 0.2037935620451867]\n",
      "较高项: [1.5, 0.204]\n",
      "-------看跌期权，第0周期-------\n",
      "当前价值: [0.5]\n",
      "风险中性下期望贴现: [0.6380347639472169]\n",
      "较高项: [0.638]\n",
      "美式看跌期权定价:0.638\n",
      "====================END====================\n",
      "\n"
     ]
    },
    {
     "data": {
      "text/plain": "[[0.638], [1.5, 0.204], [2.4, 0.6, 0.0]]"
     },
     "execution_count": 3,
     "metadata": {},
     "output_type": "execute_result"
    }
   ],
   "source": [
    "post_process(res, K, r, p, sp_level, sp_r, mode='P')"
   ],
   "metadata": {
    "collapsed": false,
    "pycharm": {
     "name": "#%%\n"
    }
   }
  },
  {
   "cell_type": "markdown",
   "source": [
    "# 第八次作业--期货2-BS公式"
   ],
   "metadata": {
    "collapsed": false
   }
  },
  {
   "cell_type": "code",
   "execution_count": 4,
   "outputs": [
    {
     "name": "stdout",
     "output_type": "stream",
     "text": [
      "0.4985391378606411\n"
     ]
    }
   ],
   "source": [
    "# 连续时间下的风险中性概率\n",
    "sigma = 0.38\n",
    "r = 0.055 #无风险利率\n",
    "n = 40 #40期二叉树\n",
    "T_t = 2/12 #多少个月到期/12（年）\n",
    "t_delta = T_t / n\n",
    "u = np.exp(sigma * np.sqrt(t_delta))\n",
    "d = np.exp(-sigma * np.sqrt(t_delta))\n",
    "q =0.5 - np.sqrt(t_delta) * (sigma / 4 - r / (2 * sigma))\n",
    "print(q)"
   ],
   "metadata": {
    "collapsed": false,
    "pycharm": {
     "name": "#%%\n"
    }
   }
  },
  {
   "cell_type": "code",
   "execution_count": 36,
   "outputs": [
    {
     "name": "stdout",
     "output_type": "stream",
     "text": [
      "看涨被执行概率: 0.441\n",
      "看跌被执行概率: 0.559\n",
      "S(t)<sp概率: 0.281\n",
      "d1=0.065, d2=-0.148\n",
      "看涨期权价格: 3.220\n",
      "看跌期权价格: 3.573\n"
     ]
    }
   ],
   "source": [
    "# BS公式\n",
    "\n",
    "def BS(S, K, t, sigma, r, mu=None, sp=None):\n",
    "    d1 = 1 / (sigma * np.sqrt(t)) * (np.log(S / K) + (r + sigma**2 / 2) * t)\n",
    "    d2 = d1 - sigma * np.sqrt(t)\n",
    "    C = S * norm.cdf(d1) - K * np.exp(-r * t) * norm.cdf(d2)\n",
    "    D = K * np.exp(-r * t) * norm.cdf(-d2) - S * norm.cdf(-d1)\n",
    "    if mu:\n",
    "        tmp = (np.log(K) - (np.log(S) + (mu - sigma**2 / 2) * t )) / (sigma * np.sqrt(t))\n",
    "        prob = norm.cdf(tmp)\n",
    "        print('看涨被执行概率: {:.3f}'.format(1 - prob))\n",
    "        print('看跌被执行概率: {:.3f}'.format(prob))\n",
    "        if sp:\n",
    "            tmp_sp = (np.log(sp) - (np.log(S) + (mu - sigma**2 / 2) * t )) / (sigma * np.sqrt(t))\n",
    "            prob_sp = norm.cdf(tmp_sp)\n",
    "            print('S(t)<sp概率: {:.3f}'.format(prob_sp))\n",
    "    print('d1={:.3f}, d2={:.3f}\\n看涨期权价格: {:.3f}\\n看跌期权价格: {:.3f}'.format(d1, d2, C, D))\n",
    "\n",
    "T_t = 6/12 # 月份/12（年）\n",
    "sigma = 0.3 #年波动率\n",
    "r = 0.08 #无风险利率\n",
    "K = 42 #协议价格\n",
    "S = 40 #标的资产当前价格\n",
    "mu = r\n",
    "sp = 0.9 * S\n",
    "#S = 30 - np.exp(-r * 1.5/12) #标的资产当前价格-派息贴现\n",
    "BS(S, K, T_t, sigma, r, mu, sp)"
   ],
   "metadata": {
    "collapsed": false,
    "pycharm": {
     "name": "#%%\n"
    }
   }
  },
  {
   "cell_type": "code",
   "execution_count": 19,
   "outputs": [
    {
     "name": "stdout",
     "output_type": "stream",
     "text": [
      "S: 18.531\n",
      "d1: -0.333, d2: -0.462, 看涨期权价格: 0.567, 看跌期权价格: 1.543\n"
     ]
    }
   ],
   "source": [
    "T_t = 5/12\n",
    "sigma = 0.2\n",
    "r = 0.06\n",
    "K = 20\n",
    "S = 19 * np.exp(-r * T_t)\n",
    "print('S: {:.3f}'.format(S))\n",
    "BS(S, K, T_t, sigma, r)"
   ],
   "metadata": {
    "collapsed": false,
    "pycharm": {
     "name": "#%%\n"
    }
   }
  },
  {
   "cell_type": "code",
   "execution_count": 44,
   "outputs": [
    {
     "name": "stdout",
     "output_type": "stream",
     "text": [
      "S: 0.200\n",
      "看涨被执行概率: 0.000\n",
      "看跌被执行概率: 1.000\n",
      "S(t)<sp概率: 0.281\n",
      "d1: -7.457, d2: -7.669, 看涨期权价格: 0.000, 看跌期权价格: 0.795\n"
     ]
    }
   ],
   "source": [
    "T_t = 1/2\n",
    "sigma = 0.3\n",
    "r = 0.01\n",
    "K = 1\n",
    "S = 0.2\n",
    "mu = 0.08\n",
    "sp = 0.9 * S\n",
    "print('S: {:.3f}'.format(S))\n",
    "BS(S, K, T_t, sigma, r, mu, sp)"
   ],
   "metadata": {
    "collapsed": false,
    "pycharm": {
     "name": "#%%\n"
    }
   }
  },
  {
   "cell_type": "code",
   "execution_count": 37,
   "outputs": [
    {
     "data": {
      "text/plain": "26.998183240180282"
     },
     "execution_count": 37,
     "metadata": {},
     "output_type": "execute_result"
    }
   ],
   "source": [],
   "metadata": {
    "collapsed": false,
    "pycharm": {
     "name": "#%%\n"
    }
   }
  }
 ],
 "metadata": {
  "kernelspec": {
   "display_name": "Python 3",
   "language": "python",
   "name": "python3"
  },
  "language_info": {
   "codemirror_mode": {
    "name": "ipython",
    "version": 2
   },
   "file_extension": ".py",
   "mimetype": "text/x-python",
   "name": "python",
   "nbconvert_exporter": "python",
   "pygments_lexer": "ipython2",
   "version": "2.7.6"
  }
 },
 "nbformat": 4,
 "nbformat_minor": 0
}