{
 "cells": [
  {
   "cell_type": "code",
   "execution_count": 6,
   "metadata": {
    "collapsed": true
   },
   "outputs": [],
   "source": [
    "import numpy as np\n",
    "import math\n",
    "from scipy.stats import norm"
   ]
  },
  {
   "cell_type": "markdown",
   "source": [
    "# 1. $\\Delta$风险对冲案例"
   ],
   "metadata": {
    "collapsed": false,
    "pycharm": {
     "name": "#%% md\n"
    }
   }
  },
  {
   "cell_type": "code",
   "execution_count": 86,
   "outputs": [
    {
     "name": "stdout",
     "output_type": "stream",
     "text": [
      "周      股票价格 delta  购买股票数   购买股票成本   累计成本    利息费用 \n",
      "0       49.000  0.522  52160.466  2555862.839  2555862.839 2458.742\n",
      "1       48.125  0.458  -6325.401  -304409.899  2253911.682 2168.265\n",
      "2       47.375  0.400  -5797.730  -274667.465  1981412.482 1906.121\n",
      "原本盈亏: 0.000\n",
      "对冲盈亏: 3016681.397\n",
      "最终盈亏: 3016681.397\n"
     ]
    }
   ],
   "source": [
    "# 参数\n",
    "S = 49\n",
    "K = 50\n",
    "r = 0.05\n",
    "sigma = 0.2\n",
    "T_t = 20/52 #20周(年)\n",
    "init_count = 100000 #多少股的看涨期权\n",
    "S_price = [49, 48 + 1/8, 47 + 3/8]\n",
    "S_count = 0\n",
    "cum_cost = 0\n",
    "print('{:<5}  {:<5}{:<5}  {:<5}   {:<5}   {:<5}   {:<5}'.format('周', '股票价格' ,'delta' ,'购买股票数','购买股票成本', '累计成本', '利息费用'))\n",
    "\n",
    "for t in range(len(S_price)):\n",
    "    d1 = 1 / (sigma * np.sqrt(T_t-t/52)) * (np.log(S_price[t] / K) + (r + sigma**2 / 2) * (T_t-t/52))\n",
    "    delta = norm.cdf(d1)\n",
    "    S_count_new = delta * init_count #新周期需要S_count份股票对冲\n",
    "    S_change = S_count_new - S_count\n",
    "    cost = S_change * S_price[t]\n",
    "    cum_cost += cost\n",
    "    interest = cum_cost * (np.exp(r * (1/52))-1)\n",
    "\n",
    "    print('{:<5d}   {:<5.3f}  {:<5.3f}  {:<5.3f}  {:<5.3f}  {:<5.3f} {:<5.3f}'.format(t, S_price[t], delta, S_change, cost, cum_cost, interest))\n",
    "    cum_cost += interest #下周期结算本周期利息\n",
    "    S_count = S_count_new\n",
    "\n",
    "# 原本盈亏\n",
    "origin_diff = max((S_price[-1] - K) * init_count, 0)\n",
    "# 对冲盈亏\n",
    "impact_diff = K * init_count - cum_cost\n",
    "#最终盈亏\n",
    "final_diff = impact_diff + origin_diff\n",
    "print('原本盈亏: {:.3f}\\n对冲盈亏: {:.3f}\\n最终盈亏: {:.3f}'.format(origin_diff, impact_diff, final_diff))"
   ],
   "metadata": {
    "collapsed": false,
    "pycharm": {
     "name": "#%%\n"
    }
   }
  }
 ],
 "metadata": {
  "kernelspec": {
   "display_name": "Python 3",
   "language": "python",
   "name": "python3"
  },
  "language_info": {
   "codemirror_mode": {
    "name": "ipython",
    "version": 2
   },
   "file_extension": ".py",
   "mimetype": "text/x-python",
   "name": "python",
   "nbconvert_exporter": "python",
   "pygments_lexer": "ipython2",
   "version": "2.7.6"
  }
 },
 "nbformat": 4,
 "nbformat_minor": 0
}