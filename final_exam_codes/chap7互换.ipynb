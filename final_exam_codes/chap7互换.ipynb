{
 "cells": [
  {
   "cell_type": "code",
   "execution_count": 1,
   "metadata": {
    "collapsed": true
   },
   "outputs": [],
   "source": [
    "import math\n",
    "import numpy as np"
   ]
  },
  {
   "cell_type": "markdown",
   "source": [
    "# 1. 设计货币互换"
   ],
   "metadata": {
    "collapsed": false,
    "pycharm": {
     "name": "#%% md\n"
    }
   }
  },
  {
   "cell_type": "code",
   "execution_count": 11,
   "outputs": [
    {
     "data": {
      "text/plain": "24.0"
     },
     "execution_count": 11,
     "metadata": {},
     "output_type": "execute_result"
    }
   ],
   "source": [
    "A_r1, A_r2 = 0.076, 0.112\n",
    "B_r1, B_r2 = 0.096, 0.116\n",
    "rate = 1.5\n",
    "money_r1 = 1500\n",
    "money_r2 = 1000\n",
    "(money_r1 * B_r1 + money_r2 * A_r2 * rate) - (money_r1 * A_r1 + money_r2 * B_r2 * rate)"
   ],
   "metadata": {
    "collapsed": false,
    "pycharm": {
     "name": "#%%\n"
    }
   }
  },
  {
   "cell_type": "code",
   "execution_count": 14,
   "outputs": [
    {
     "name": "stdout",
     "output_type": "stream",
     "text": [
      "54.0 -30.0 42.0 0.028\n"
     ]
    }
   ],
   "source": [
    "A_save = money_r2 * A_r2 * rate - money_r1 * A_r1\n",
    "\n",
    "B_save = money_r1 * B_r1 - money_r2 * B_r2 * rate\n",
    "\n",
    "offer = (A_save - B_save)/2\n",
    "\n",
    "offer_r2 = offer / money_r1\n",
    "\n",
    "print(A_save, B_save, offer, offer_r2)"
   ],
   "metadata": {
    "collapsed": false,
    "pycharm": {
     "name": "#%%\n"
    }
   }
  },
  {
   "cell_type": "markdown",
   "source": [
    "# 2. 习题八-2 货币互换价值"
   ],
   "metadata": {
    "collapsed": false,
    "pycharm": {
     "name": "#%% md\n"
    }
   }
  },
  {
   "cell_type": "code",
   "execution_count": 21,
   "outputs": [
    {
     "name": "stdout",
     "output_type": "stream",
     "text": [
      "r2支付方获得3291.611,r1支付方获得3410.919\n",
      "r2支付方赚-119.308\n"
     ]
    }
   ],
   "source": [
    "\n",
    "money_r1 = 3000\n",
    "ex_r1 = 0.1\n",
    "money_r2 = 2000\n",
    "ex_r2 = 0.14\n",
    "rate = 1.5 #money_r2 * rate = money_r1(每单位)\n",
    "r1 = 0.08\n",
    "r2 = 0.11\n",
    "T = 15\n",
    "\n",
    "total_r1 = money_r1 * ex_r1 / (1 + r1) ** ((T-12)/12) + money_r1 * (1 + ex_r1) / (1 + r1) ** ((T)/12)\n",
    "total_r2 = money_r2 * ex_r2 / (1 + r2) ** ((T-12)/12) + money_r2 * (1 + ex_r2) / (1 + r2) ** ((T)/12)\n",
    "diff = total_r1 - total_r2 * rate\n",
    "print('r2支付方获得{:.3f},r1支付方获得{:.3f}'.format(total_r1, total_r2 * rate))\n",
    "print('r2支付方赚{:.3f}'.format(diff))"
   ],
   "metadata": {
    "collapsed": false,
    "pycharm": {
     "name": "#%%\n"
    }
   }
  },
  {
   "cell_type": "markdown",
   "source": [
    "# 3. 习题八-4 可违约债券现值、利息"
   ],
   "metadata": {
    "collapsed": false,
    "pycharm": {
     "name": "#%% md\n"
    }
   }
  },
  {
   "cell_type": "code",
   "execution_count": 28,
   "outputs": [
    {
     "name": "stdout",
     "output_type": "stream",
     "text": [
      "本息现金流现值:0.513\n",
      "违约赔付现金流现值:0.304\n",
      "风险中性定价下每年支付利息:0.175\n"
     ]
    }
   ],
   "source": [
    "p = 0.2 #违约概率\n",
    "r = 0.04 #无风险利率\n",
    "R = 0.5 #违约回收率\n",
    "n = 5 #发行n年\n",
    "S = 100 #面值\n",
    "r_s = 0.1 #付息（年）\n",
    "\n",
    "#计算本息现金流现值\n",
    "v = 0\n",
    "for t in range(1, n+1):\n",
    "    v += r_s * ((1 - p) / (1 + r)) ** t\n",
    "v += ((1 - p) / (1 + r)) ** t\n",
    "print('本息现金流现值:{:.3f}'.format(v))\n",
    "\n",
    "# 违约赔付现金流现值\n",
    "v_R = 0\n",
    "for t in range(1, n+1):\n",
    "    v_R += R * p / (1-p) * ((1 - p) / (1 + r)) ** t\n",
    "print('违约赔付现金流现值:{:.3f}'.format(v_R))\n",
    "\n",
    "\n",
    "# 风险中性定价下每年支付利息\n",
    "r_p = r + (p + r * p - R * p) / (1 - p)\n",
    "print('风险中性定价下每年支付利息:{:.3f}'.format(r_p))"
   ],
   "metadata": {
    "collapsed": false,
    "pycharm": {
     "name": "#%%\n"
    }
   }
  },
  {
   "cell_type": "code",
   "execution_count": 26,
   "outputs": [
    {
     "data": {
      "text/plain": "0.125"
     },
     "execution_count": 26,
     "metadata": {},
     "output_type": "execute_result"
    }
   ],
   "source": [
    "(1-R) * p / (1-p)"
   ],
   "metadata": {
    "collapsed": false,
    "pycharm": {
     "name": "#%%\n"
    }
   }
  }
 ],
 "metadata": {
  "kernelspec": {
   "display_name": "Python 3",
   "language": "python",
   "name": "python3"
  },
  "language_info": {
   "codemirror_mode": {
    "name": "ipython",
    "version": 2
   },
   "file_extension": ".py",
   "mimetype": "text/x-python",
   "name": "python",
   "nbconvert_exporter": "python",
   "pygments_lexer": "ipython2",
   "version": "2.7.6"
  }
 },
 "nbformat": 4,
 "nbformat_minor": 0
}