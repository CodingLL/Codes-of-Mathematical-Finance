{
 "cells": [
  {
   "cell_type": "code",
   "execution_count": 1,
   "metadata": {},
   "outputs": [],
   "source": [
    "import pandas as pd\n",
    "import numpy as np\n",
    "import sympy\n",
    "from sympy import *\n",
    "from tqdm import tqdm\n",
    "from chap1_codes import *\n",
    "from chap2_codes import *\n",
    "from chap1_questions import *"
   ]
  },
  {
   "cell_type": "code",
   "execution_count": 6,
   "metadata": {},
   "outputs": [
    {
     "name": "stdout",
     "output_type": "stream",
     "text": [
      "106.39426692548462\n"
     ]
    }
   ],
   "source": [
    "# 期货转换因子的计算\n",
    "CF = 100 / (1+0.03)**6\n",
    "for i in range(6+1):\n",
    "    CF += 4.1/(1+0.03)**i\n",
    "CF = CF/(1+0.03)**0.5 - 2.05\n",
    "print(CF)"
   ]
  },
  {
   "cell_type": "code",
   "execution_count": 9,
   "metadata": {},
   "outputs": [
    {
     "name": "stdout",
     "output_type": "stream",
     "text": [
      "{x: 4469.11838790932}\n",
      "{x: 4834.44141689373}\n",
      "{x: 4795.24324324324}\n"
     ]
    }
   ],
   "source": [
    "# 期货保证金平仓问题\n",
    "# 跌到多少强制平仓all\n",
    "x = sympy.Symbol('x')\n",
    "print(sympy.solve([5e+6 + (x - 5685.6)*20*200 - 0.15*x*200],[x]))\n",
    "#跌到多少强制平仓10手（共20手）\n",
    "print(sympy.solve([5e+6 + (x - 5685.6)*20*200 - 0.15*x*200*11],[x]))\n",
    "print(sympy.solve([5e+6 + (x - 5685.6)*20*200 - 0.15*x*200*10],[x]))"
   ]
  },
  {
   "cell_type": "code",
   "execution_count": 12,
   "metadata": {},
   "outputs": [
    {
     "name": "stdout",
     "output_type": "stream",
     "text": [
      "1.9398642095053364\n",
      "2.9999999999999716\n"
     ]
    }
   ],
   "source": [
    "res1 = 1000 * (6.2/100/2 - 5.8/100/2) / (1 + 6.2/100/2)\n",
    "res2 = 10 * (100 - 5.6 / 2 - (100 - 6.2 / 2))\n",
    "print('{}\\n{}'.format(res1, res2))"
   ]
  },
  {
   "cell_type": "code",
   "execution_count": 16,
   "metadata": {},
   "outputs": [
    {
     "data": {
      "text/plain": [
       "-1000"
      ]
     },
     "execution_count": 16,
     "metadata": {},
     "output_type": "execute_result"
    }
   ],
   "source": [
    "26 + 2 + 2*(1 + 0.25/4)\n",
    "25 * (1 + 0.25/2) - 2 - 2 * (1 + 0.25/4)\n",
    "1000 * (24 - 25) / (1 + 0.25/2)\n",
    "1000 * (24 - 25)"
   ]
  }
 ],
 "metadata": {
  "kernelspec": {
   "display_name": "Python 3.9.6 64-bit",
   "language": "python",
   "name": "python3"
  },
  "language_info": {
   "codemirror_mode": {
    "name": "ipython",
    "version": 3
   },
   "file_extension": ".py",
   "mimetype": "text/x-python",
   "name": "python",
   "nbconvert_exporter": "python",
   "pygments_lexer": "ipython3",
   "version": "3.9.6"
  },
  "orig_nbformat": 4,
  "vscode": {
   "interpreter": {
    "hash": "b0fa6594d8f4cbf19f97940f81e996739fb7646882a419484c72d19e05852a7e"
   }
  }
 },
 "nbformat": 4,
 "nbformat_minor": 2
}
