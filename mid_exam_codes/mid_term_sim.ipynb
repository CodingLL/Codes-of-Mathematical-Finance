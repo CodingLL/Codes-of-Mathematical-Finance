{
 "cells": [
  {
   "cell_type": "code",
   "execution_count": 2,
   "metadata": {},
   "outputs": [],
   "source": [
    "import pandas as pd\n",
    "import numpy as np\n",
    "import sympy\n",
    "from sympy import *\n",
    "from tqdm import tqdm\n",
    "from chap1_codes import *\n",
    "from chap2_codes import *\n",
    "from chap1_questions import *"
   ]
  },
  {
   "cell_type": "code",
   "execution_count": 3,
   "metadata": {},
   "outputs": [
    {
     "data": {
      "text/plain": [
       "28.125"
      ]
     },
     "execution_count": 3,
     "metadata": {},
     "output_type": "execute_result"
    }
   ],
   "source": [
    "26 + 2 * 3/12 *0.25 + 2"
   ]
  },
  {
   "cell_type": "code",
   "execution_count": 4,
   "metadata": {},
   "outputs": [
    {
     "data": {
      "text/plain": [
       "24.0"
      ]
     },
     "execution_count": 4,
     "metadata": {},
     "output_type": "execute_result"
    }
   ],
   "source": [
    "25*(1+0.25/2) - 2*(1+0.25/4) - 2"
   ]
  },
  {
   "cell_type": "code",
   "execution_count": 5,
   "metadata": {},
   "outputs": [
    {
     "data": {
      "text/plain": [
       "888.8888888888889"
      ]
     },
     "execution_count": 5,
     "metadata": {},
     "output_type": "execute_result"
    }
   ],
   "source": [
    "1000/(1+0.25/2)"
   ]
  },
  {
   "cell_type": "code",
   "execution_count": 6,
   "metadata": {},
   "outputs": [
    {
     "data": {
      "text/plain": [
       "-500000"
      ]
     },
     "execution_count": 6,
     "metadata": {},
     "output_type": "execute_result"
    }
   ],
   "source": [
    "(71970 - 72970)*100*5"
   ]
  },
  {
   "cell_type": "code",
   "execution_count": 7,
   "metadata": {},
   "outputs": [
    {
     "name": "stdout",
     "output_type": "stream",
     "text": [
      "{x: 89880.1198801199}\n",
      "{x: 82089.4160583942}\n",
      "{x: 82164.3835616438}\n"
     ]
    }
   ],
   "source": [
    "# 跌到多少强制平仓all\n",
    "x = sympy.Symbol('x')\n",
    "print(sympy.solve([9e+6 + (71970-x)*500-0.1*x*5],[x]))\n",
    "#跌到多少强制平仓5手（共100手）\n",
    "print(sympy.solve([9e+6 + (71970-x)*500-0.1*x*5*96],[x]))\n",
    "print(sympy.solve([9e+6 + (71970-x)*500-0.1*x*5*95],[x]))"
   ]
  },
  {
   "cell_type": "code",
   "execution_count": 8,
   "metadata": {},
   "outputs": [
    {
     "data": {
      "text/plain": [
       "-27.746221593998044"
      ]
     },
     "execution_count": 8,
     "metadata": {},
     "output_type": "execute_result"
    }
   ],
   "source": [
    "x = 91970\n",
    "(9e+6 + (71970-x)*500-0.1*x*5*6)/(x*0.1*5)"
   ]
  },
  {
   "cell_type": "code",
   "execution_count": 9,
   "metadata": {},
   "outputs": [
    {
     "name": "stdout",
     "output_type": "stream",
     "text": [
      "收入136.816, 支出138.865, 单份收益-2.048, 总收益-20483.144\n"
     ]
    }
   ],
   "source": [
    "# 给定债券，转换因子，求收益\n",
    "# 流程：先算期货报价*转换因子，再算可交割券报价\n",
    "CF = 1.4623\n",
    "amount = 10\n",
    "size = 1e+5/100\n",
    "price_ask = 93 + 18/32 \n",
    "income = price_ask * CF\n",
    "kwargs = {'freq':2, 'r':6.5, 'bond_r':10, 'bond_face':100, 'end_time':20}\n",
    "outcome = get_bond_price_discount(**kwargs)\n",
    "print('收入{:.3f}, 支出{:.3f}, 单份收益{:.3f}, 总收益{:.3f}'.format(income, outcome, income - outcome, amount*size*(income-outcome)))\n"
   ]
  },
  {
   "cell_type": "code",
   "execution_count": 10,
   "metadata": {},
   "outputs": [
    {
     "name": "stdout",
     "output_type": "stream",
     "text": [
      "收入114.128, 支出112.351, 单份收益1.776, 总收益17762.953\n"
     ]
    }
   ],
   "source": [
    "# 给定债券，转换因子，求收益\n",
    "# 流程：先算期货报价*转换因子，再算可交割券报价\n",
    "CF = 1.2198\n",
    "price_ask = 93 + 18/32 \n",
    "income = price_ask * CF\n",
    "kwargs = {'freq':2, 'r':6.8, 'bond_r':8, 'bond_face':100, 'end_time':18}\n",
    "outcome = get_bond_price_discount(**kwargs)\n",
    "print('收入{:.3f}, 支出{:.3f}, 单份收益{:.3f}, 总收益{:.3f}'.format(income, outcome, income - outcome, amount*size*(income-outcome)))"
   ]
  },
  {
   "cell_type": "code",
   "execution_count": 11,
   "metadata": {},
   "outputs": [],
   "source": [
    "# 5. 均值-方差理论\n",
    "# kwargs = {'mu':np.mat([0.08, 0.08, 0.08]).T , 'sigma':np.mat([[2.0, 1.8, 0.2],[1.8, 2.0, -0.8],[0.2, -0.8, 2.0]]).T}\n",
    "# get_musigma_norf(**kwargs)"
   ]
  },
  {
   "cell_type": "code",
   "execution_count": 12,
   "metadata": {},
   "outputs": [
    {
     "name": "stdout",
     "output_type": "stream",
     "text": [
      "修正久期2.612(年), 凸度9.584(年)\n"
     ]
    }
   ],
   "source": [
    "# 7. 给定到期收益率的情况，求久期，凸度\n",
    "kwargs = {'freq':1, 'r':6, 'bond_r':9,  'end_time':3, 'start_time':0}\n",
    "chap1.Q4(kwargs)"
   ]
  },
  {
   "cell_type": "code",
   "execution_count": 13,
   "metadata": {},
   "outputs": [
    {
     "name": "stdout",
     "output_type": "stream",
     "text": [
      "现值: 100.37461474710788\n",
      "方程的解： [(0.0885239581930092,), (-1.49942992657668 - 0.864978915601144*I,), (-1.49942992657668 + 0.864978915601144*I,)]\n"
     ]
    },
    {
     "name": "stderr",
     "output_type": "stream",
     "text": [
      " 20%|██        | 3/15 [00:00<00:00, 25.58it/s]"
     ]
    },
    {
     "name": "stdout",
     "output_type": "stream",
     "text": [
      "到期收益率8.852, 修正久期2.535(年), 凸度9.049(年)\n"
     ]
    },
    {
     "name": "stderr",
     "output_type": "stream",
     "text": [
      "\n"
     ]
    }
   ],
   "source": [
    "# 给定即期收益率，计算到期收益率\n",
    "freq = 1\n",
    "rt = [6, 8 ,9]\n",
    "bond_r = 9\n",
    "bond_face = 100\n",
    "end_time = 3\n",
    "rt = [0.01 * i / freq for i in rt]\n",
    "bond_r = 0.01 * bond_r / freq\n",
    "end_time = end_time * freq\n",
    "V = bond_face/(1+rt[-1])**end_time\n",
    "for t in range(end_time):\n",
    "    V += bond_face * bond_r / (1 + rt[t]) ** (t + 1)\n",
    "print('现值:', V)\n",
    "\n",
    "r = sympy.Symbol('r')\n",
    "V1 = bond_face / (1 + r) ** end_time\n",
    "for t in range(end_time):\n",
    "    V1 += bond_face * bond_r / (1 + r) ** (t + 1)\n",
    "print('方程的解：',sympy.solve([V1 - V],[r])) \n",
    "r = sympy.solve([V1 - V],[r])[0][0]\n",
    "\n",
    "kwargs = {'freq':freq, 'bond_r':bond_r*freq*100, 'bond_cur':V, 'bond_face':bond_face, 'end_time':end_time/freq, 'start_time':0}\n",
    "chap1.Q4(kwargs)"
   ]
  },
  {
   "cell_type": "code",
   "execution_count": 16,
   "metadata": {},
   "outputs": [
    {
     "name": "stdout",
     "output_type": "stream",
     "text": [
      "{F: 93.4800000000000}\n",
      "{F: 95.6850000000000}\n"
     ]
    }
   ],
   "source": [
    "# 债券不同借贷利率下的合理定价\n",
    "F = sympy.Symbol('F')\n",
    "# freq = 1\n",
    "# bond_face = 100\n",
    "# pay_time = 6/12\n",
    "# end_time = 15/12\n",
    "# bond_cur = 97\n",
    "# bond_r = 0.08\n",
    "# borrowout_rate = 0.06\n",
    "# borrowin_rate = 0.09\n",
    "# print(solve([bond_cur * (1 + end_time * borrowout_rate) - F - bond_face * bond_r/freq * (1 + borrowin_rate * (end_time - pay_time))],[F])) # 标准化\n",
    "# print(solve([bond_cur * (1 + end_time * borrowin_rate) - F - bond_face * bond_r/freq * (1 + borrowout_rate * (end_time - pay_time))],[F]))\n",
    "\n",
    "# print(solve([95 * (1 + 9/12 * 0.04) - F - 100 * 0.03 * (1 + 0.10 * 3 / 12)],[F])) #作业例子\n",
    "# print(solve([95 * (1 + 9/12 * 0.10) - F - 100 * 0.03 * (1 + 0.04 * 3 / 12)],[F]))\n",
    "\n",
    "print(solve([96 * (1 + 9/12 * 0.05) - F - 100 * 0.06 * (1 + 0.08 * 3 / 12)],[F])) #模拟例子\n",
    "print(solve([96 * (1 + 9/12 * 0.08) - F - 100 * 0.06 * (1 + 0.05 * 3 / 12)],[F]))\n"
   ]
  },
  {
   "cell_type": "markdown",
   "metadata": {},
   "source": [
    "套利方式：\n",
    "1. 若 F > 99.5525， 则F + 8 * (1+ 9/12 * 6%) - 97 * (1 + 15 / 12 * 9%) > 0\n",
    "\n",
    "#### 融资买券\n",
    "\n",
    "先借97元，期限15个月，花钱买该债券，并持有一个远期合约的空头，期限15个月\n",
    "\n",
    "15月还97*(1+15/12 * 9%)元\n",
    "\n",
    "同时6个月后收入100 * 0.08 = 8元，再投资，15个月时收入8 * (1+ 9/12 * 6%)\n",
    "\n",
    "由于F + 8 * (1+ 9/12 * 6%) - 97 * (1 + 15 / 12 * 9%) > 0 ，故可套例\n",
    "\n",
    "2. 若 F<95.735吗， 则 97 * (1 + 15 / 12 * 6%) -（F + 8 * (1+ 9/12 * 9%)） > 0\n",
    "\n",
    "#### 融券投资\n",
    "\n",
    "先借一份债券卖获得97元进行以6%投资15个月，并持有一个远期合约的多头，期限15个月\n",
    "\n",
    "15月收入97*(1+15/12 * 9%)元\n",
    "\n",
    "同时6个月后借的债券收益100 * 0.08 = 8元，15个月时需出8 * (1+ 9/12 * 9%)\n",
    "\n",
    "由于97 * (1 + 15 / 12 * 6%) -（F + 8 * (1+ 9/12 * 9%)） > 0 ，故可套例\n",
    "\n"
   ]
  },
  {
   "cell_type": "code",
   "execution_count": 17,
   "metadata": {},
   "outputs": [
    {
     "data": {
      "text/plain": [
       "3.3149999999999977"
      ]
     },
     "execution_count": 17,
     "metadata": {},
     "output_type": "execute_result"
    }
   ],
   "source": [
    "99 + 6 * (1+ 3/12 * 0.05) - 96 * (1 + 9 / 12 * 0.08)"
   ]
  }
 ],
 "metadata": {
  "kernelspec": {
   "display_name": "Python 3.9.6 64-bit",
   "language": "python",
   "name": "python3"
  },
  "language_info": {
   "codemirror_mode": {
    "name": "ipython",
    "version": 3
   },
   "file_extension": ".py",
   "mimetype": "text/x-python",
   "name": "python",
   "nbconvert_exporter": "python",
   "pygments_lexer": "ipython3",
   "version": "3.9.6"
  },
  "orig_nbformat": 4,
  "vscode": {
   "interpreter": {
    "hash": "b0fa6594d8f4cbf19f97940f81e996739fb7646882a419484c72d19e05852a7e"
   }
  }
 },
 "nbformat": 4,
 "nbformat_minor": 2
}